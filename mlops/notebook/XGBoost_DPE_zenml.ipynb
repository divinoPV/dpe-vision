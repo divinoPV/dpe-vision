{
 "cells": [
  {
   "cell_type": "code",
   "execution_count": 1,
   "id": "562080e1",
   "metadata": {},
   "outputs": [
    {
     "name": "stdout",
     "output_type": "stream",
     "text": [
      "\u001b[1;35mNumExpr defaulting to 8 threads.\u001b[0m\n"
     ]
    }
   ],
   "source": [
    "from zenml import step, pipeline, Model, get_step_context\n",
    "from zenml.client import Client\n",
    "from zenml.logger import get_logger\n",
    "from uuid import UUID\n",
    "from typing import Optional, List\n",
    "from typing_extensions import Annotated\n",
    "\n",
    "\n",
    "from zenml import pipeline, log_artifact_metadata, step, ArtifactConfig\n"
   ]
  },
  {
   "cell_type": "code",
   "execution_count": 2,
   "id": "2f1eb58c",
   "metadata": {},
   "outputs": [],
   "source": [
    "import pandas as pd\n",
    "import xgboost as xgb\n",
    "import numpy as np\n",
    "import joblib\n",
    "import datetime\n",
    "from typing import Tuple\n",
    "from sklearn.model_selection import train_test_split\n",
    "from sklearn.preprocessing import OneHotEncoder\n",
    "from sklearn.metrics import accuracy_score, classification_report, roc_auc_score, confusion_matrix, f1_score"
   ]
  },
  {
   "cell_type": "code",
   "execution_count": 3,
   "id": "54e7d4f7",
   "metadata": {},
   "outputs": [],
   "source": [
    "@step\n",
    "def data_load() -> Annotated[pd.DataFrame, \"data\"]:\n",
    "    data = pd.read_csv(\"data/train.csv\")\n",
    "    return data\n",
    "\n",
    "@step\n",
    "def data_val_load() -> Annotated[pd.DataFrame, \"data_val\"]:\n",
    "    data_val = pd.read_csv('data/val.csv')\n",
    "    return data_val\n",
    "    "
   ]
  },
  {
   "cell_type": "code",
   "execution_count": 4,
   "id": "f07a9428",
   "metadata": {},
   "outputs": [],
   "source": [
    "# Charger vos données depuis un fichier CSV, par exemple\n",
    "@step\n",
    "def data_clean(data: pd.DataFrame = None) -> Tuple[Annotated[pd.DataFrame, \"features\"], Annotated[pd.Series, \"target\"]]:\n",
    "\n",
    "    correspondance = {'très bonne':4, 'insuffisante':1, 'bonne':3, 'moyenne':2, 0:0, 'appartement':1, 'maison':2, 'immeuble':3, 'A':6, 'B':5,\n",
    "                    'C':4, 'D':3, 'E':2, 'F':1, 'G':0, 'Électricité':1, 'Bois – Bûches':2, 'GPL':3, 'Gaz naturel':4,'Fioul domestique':5,\n",
    "                    'Réseau de Chauffage urbain':6,'Bois – Granulés (pellets) ou briquettes':7,\"Électricité d'origine renouvelable utilisée dans le bâtiment\":8,\n",
    "                    'Bois – Plaquettes d’industrie':9, 'Bois – Plaquettes forestières':10,'Charbon':11, 'Propane':12, 'Butane':13, 'Réseau de Froid Urbain':14}\n",
    "\n",
    "    colonnes_a_transformer = ['Qualité_isolation_plancher_bas', 'Qualité_isolation_enveloppe', 'Qualité_isolation_menuiseries',\n",
    "                             'Qualité_isolation_murs', 'Qualité_isolation_plancher_haut_comble_aménagé','Qualité_isolation_plancher_haut_comble_perdu',\n",
    "                             'Qualité_isolation_plancher_haut_toit_terrase', 'Type_bâtiment', 'Etiquette_GES', 'Type_énergie_n°3', 'Etiquette_DPE']\n",
    "\n",
    "    data = data.fillna(0)\n",
    "\n",
    "    data[colonnes_a_transformer] = data[colonnes_a_transformer].replace(correspondance)\n",
    "\n",
    "    data = data.drop(columns= ['Unnamed: 0','N°DPE', 'Configuration_installation_chauffage_n°2', 'Type_générateur_froid', 'Type_émetteur_installation_chauffage_n°2',\n",
    "                              'Classe_altitude', 'Code_postal_(brut)', 'Type_générateur_n°1_installation_n°2', 'Nom__commune_(Brut)',\n",
    "                              \"Cage_d'escalier\", 'Code_INSEE_(BAN)', 'Description_générateur_chauffage_n°2_installation_n°2', 'N°_département_(BAN)',\n",
    "                              'Surface_totale_capteurs_photovoltaïque', 'Facteur_couverture_solaire_saisi', 'Facteur_couverture_solaire'])\n",
    "\n",
    "    # Séparer les caractéristiques (X) de la cible (y)\n",
    "    X = data.drop(columns=['Etiquette_DPE'])  # Supprimez la colonne cible\n",
    "    y = data['Etiquette_DPE']\n",
    "    return X, y"
   ]
  },
  {
   "cell_type": "code",
   "execution_count": 5,
   "id": "7193e208",
   "metadata": {},
   "outputs": [],
   "source": [
    "@step\n",
    "def data_prep(X: pd.DataFrame = None, y: pd.Series = None) -> Tuple[Annotated[pd.DataFrame, \"features_train\"], Annotated[pd.DataFrame, \"features_test\"],\n",
    "                                                                   Annotated[pd.Series, \"target_train\"], Annotated[pd.Series, \"target_test\"]]:\n",
    "    # Séparez les données en ensembles d'apprentissage et de test\n",
    "    X_train, X_test, y_train, y_test = train_test_split(X, y, test_size=0.2, random_state=42)\n",
    "    return X_train, X_test, y_train, y_test\n",
    "    "
   ]
  },
  {
   "cell_type": "code",
   "execution_count": 10,
   "id": "16db6b05",
   "metadata": {},
   "outputs": [],
   "source": [
    "@step\n",
    "def train_model(X_test: pd.DataFrame = None, X_train: pd.DataFrame = None, y_train: pd.Series = None, y_test: pd.Series = None) -> Annotated[xgb.XGBClassifier,  ArtifactConfig(name=\"my_model\", tags=[\"XGBoost\", \"trained\"])]:\n",
    "    # Créez un modèle XGBoost\n",
    "    model = xgb.XGBClassifier(objective='multi:softmax', num_class=7)\n",
    "\n",
    "    # Entraînez le modèle sur l'ensemble d'apprentissage\n",
    "    model.fit(X_train, y_train)\n",
    "    \n",
    "    #Prédictions sur l'ensemble de test\n",
    "    y_pred = model.predict(X_test)\n",
    "    y_pred_proba = model.predict_proba(X_test)\n",
    "    # Mesurez la performance du modèle\n",
    "    accuracy = accuracy_score(y_test, y_pred)\n",
    "    roc = roc_auc_score(y_test, y_pred_proba, multi_class='ovr')\n",
    "    conf_matrix = confusion_matrix(y_test, y_pred)\n",
    "    conf_matrix = conf_matrix.tolist()\n",
    "    f1 = f1_score(y_test, y_pred, average='weighted')\n",
    "\n",
    "    log_artifact_metadata(\n",
    "        # Artifact name can be omitted if step returns only one output\n",
    "        artifact_name=\"my_model\",\n",
    "        # Metadata should be a dictionary of JSON-serializable values\n",
    "        metadata={\"metrics\" : {\"accuracy\": float(accuracy), \"roc\": float(roc), \"conf_matrix\": conf_matrix, \"f1\": float(f1)}}\n",
    "        # A dictionary of dictionaries can also be passed to group metadata\n",
    "        #  in the dashboard\n",
    "        # metadata = {\"metrics\": {\"accuracy\": accuracy}}\n",
    "    )\n",
    "    \n",
    "    joblib.dump(model, \"XGBoost_trained.pkl\")\n",
    "\n",
    "    return model"
   ]
  },
  {
   "cell_type": "code",
   "execution_count": 7,
   "id": "bfe7688e",
   "metadata": {},
   "outputs": [],
   "source": [
    "# @step\n",
    "# def test_model(X_test: pd.DataFrame = None, y_test: pd.Series = None, \n",
    "#                model: xgb.XGBClassifier = None) -> Tuple[Annotated[np.float64, \"précision\"],\n",
    "#                                                          Annotated[np.float64, \"F1-score\"], Annotated[np.float64, \"AUC-ROC\"],\n",
    "#                                                         Annotated[np.ndarray, \"conf_matrice\"]]:\n",
    "#     #Prédictions sur l'ensemble de test\n",
    "#     y_pred = model.predict(X_test)\n",
    "#     y_pred_proba = model.predict_proba(X_test)\n",
    "#     # Mesurez la performance du modèle\n",
    "#     accuracy = accuracy_score(y_test, y_pred)\n",
    "#     roc = roc_auc_score(y_test, y_pred_proba, multi_class='ovr')\n",
    "#     conf_matrix = confusion_matrix(y_test, y_pred)\n",
    "#     f1 = f1_score(y_test, y_pred, average='weighted')\n",
    "#     return accuracy, roc, f1, conf_matrix"
   ]
  },
  {
   "cell_type": "code",
   "execution_count": 8,
   "id": "695f9905",
   "metadata": {},
   "outputs": [],
   "source": [
    "@pipeline\n",
    "def dpe_xgboost_train():\n",
    "    data = data_load()\n",
    "    X, y = data_clean(data)\n",
    "    X_train, X_test, y_train, y_test = data_prep(X, y)\n",
    "    model = train_model(X_test, X_train, y_train, y_test)\n",
    "#     test_model(X_test, y_test, model)\n",
    "    "
   ]
  },
  {
   "cell_type": "code",
   "execution_count": 11,
   "id": "387b1241",
   "metadata": {},
   "outputs": [
    {
     "name": "stdout",
     "output_type": "stream",
     "text": [
      "\u001b[1;35mInitiating a new run for the pipeline: \u001b[0m\u001b[1;36mdpe_xgboost_train\u001b[1;35m.\u001b[0m\n",
      "\u001b[1;35mRegistered new version: \u001b[0m\u001b[1;36m(version 2)\u001b[1;35m.\u001b[0m\n",
      "\u001b[1;35mExecuting a new run.\u001b[0m\n",
      "\u001b[1;35mUsing user: \u001b[0m\u001b[1;36mdefault\u001b[1;35m\u001b[0m\n",
      "\u001b[1;35mUsing stack: \u001b[0m\u001b[1;36mdefault\u001b[1;35m\u001b[0m\n",
      "\u001b[1;35m  orchestrator: \u001b[0m\u001b[1;36mdefault\u001b[1;35m\u001b[0m\n",
      "\u001b[1;35m  artifact_store: \u001b[0m\u001b[1;36mdefault\u001b[1;35m\u001b[0m\n",
      "\u001b[1;35mUsing cached version of \u001b[0m\u001b[1;36mdata_load\u001b[1;35m.\u001b[0m\n",
      "\u001b[1;35mStep \u001b[0m\u001b[1;36mdata_load\u001b[1;35m has started.\u001b[0m\n",
      "\u001b[1;35mUsing cached version of \u001b[0m\u001b[1;36mdata_clean\u001b[1;35m.\u001b[0m\n",
      "\u001b[1;35mStep \u001b[0m\u001b[1;36mdata_clean\u001b[1;35m has started.\u001b[0m\n",
      "\u001b[1;35mUsing cached version of \u001b[0m\u001b[1;36mdata_prep\u001b[1;35m.\u001b[0m\n",
      "\u001b[1;35mStep \u001b[0m\u001b[1;36mdata_prep\u001b[1;35m has started.\u001b[0m\n",
      "\u001b[1;35mStep \u001b[0m\u001b[1;36mtrain_model\u001b[1;35m has started.\u001b[0m\n",
      "\u001b[1;35mStep \u001b[0m\u001b[1;36mtrain_model\u001b[1;35m has finished in \u001b[0m\u001b[1;36m2m14s\u001b[1;35m.\u001b[0m\n",
      "\u001b[1;35mPipeline run has finished in \u001b[0m\u001b[1;36m2m15s\u001b[1;35m.\u001b[0m\n",
      "\u001b[1;35mYou can visualize your pipeline runs in the \u001b[0m\u001b[1;36mZenML Dashboard\u001b[1;35m. In order to try it locally, please run \u001b[0m\u001b[1;36mzenml up\u001b[1;35m.\u001b[0m\n"
     ]
    },
    {
     "data": {
      "text/plain": [
       "PipelineRunResponse(body=PipelineRunResponseBody(created=datetime.datetime(2024, 3, 22, 13, 24, 56, 886404), updated=datetime.datetime(2024, 3, 22, 13, 24, 56, 886404), user=UserResponse(body=UserResponseBody(created=datetime.datetime(2024, 3, 13, 11, 20, 21, 474388), updated=datetime.datetime(2024, 3, 13, 11, 20, 21, 474388), active=True, activation_token=None, full_name='', email_opted_in=None, is_service_account=False), metadata=None, resources=None, id=UUID('d6b6f061-b8c6-462b-b6ad-7018f003f258'), permission_denied=False, name='default'), status=<ExecutionStatus.INITIALIZING: 'initializing'>, stack=StackResponse(body=StackResponseBody(created=datetime.datetime(2024, 3, 13, 11, 20, 20, 712936), updated=datetime.datetime(2024, 3, 13, 11, 20, 20, 712936), user=None), metadata=None, resources=None, id=UUID('12159a6b-75ff-4da9-abaf-25808b794a76'), permission_denied=False, name='default'), pipeline=PipelineResponse(body=PipelineResponseBody(created=datetime.datetime(2024, 3, 22, 13, 24, 56, 553239), updated=datetime.datetime(2024, 3, 22, 13, 24, 56, 553239), user=UserResponse(body=UserResponseBody(created=datetime.datetime(2024, 3, 13, 11, 20, 21, 474388), updated=datetime.datetime(2024, 3, 13, 11, 20, 21, 474388), active=True, activation_token=None, full_name='', email_opted_in=None, is_service_account=False), metadata=None, resources=None, id=UUID('d6b6f061-b8c6-462b-b6ad-7018f003f258'), permission_denied=False, name='default'), status=[<ExecutionStatus.INITIALIZING: 'initializing'>], version='2'), metadata=None, resources=None, id=UUID('cdfffaea-93c1-45f2-b8a2-14085b1ee68c'), permission_denied=False, name='dpe_xgboost_train'), build=None, schedule=None, code_reference=None, deployment_id=UUID('5c190009-1dc1-4026-9517-60ac1713efa3'), trigger_execution=None), metadata=PipelineRunResponseMetadata(workspace=WorkspaceResponse(body=WorkspaceResponseBody(created=datetime.datetime(2024, 3, 13, 11, 20, 20, 564848), updated=datetime.datetime(2024, 3, 13, 11, 20, 20, 564848)), metadata=None, resources=None, id=UUID('c345797b-eea1-41af-a9f3-4f3335605a35'), permission_denied=False, name='default'), run_metadata={}, steps={}, config=PipelineConfiguration(enable_cache=None, enable_artifact_metadata=None, enable_artifact_visualization=None, enable_step_logs=None, settings={}, extra={}, failure_hook_source=None, success_hook_source=None, model=None, parameters=None, name='dpe_xgboost_train'), start_time=datetime.datetime(2024, 3, 22, 13, 24, 56, 880410), end_time=None, client_environment={'environment': 'notebook', 'os': 'windows', 'windows_version_release': '10', 'windows_version': '10.0.19045', 'windows_version_service_pack': 'SP0', 'windows_version_os_type': 'Multiprocessor Free', 'python_version': '3.10.6'}, orchestrator_environment={}, orchestrator_run_id=None), resources=None, id=UUID('87e91cb6-83fd-4a2e-ae96-8525d84a06eb'), permission_denied=False, name='dpe_xgboost_train-2024_03_22-13_24_56_880410')"
      ]
     },
     "execution_count": 11,
     "metadata": {},
     "output_type": "execute_result"
    }
   ],
   "source": [
    "dpe_xgboost_train()"
   ]
  },
  {
   "cell_type": "code",
   "execution_count": 12,
   "id": "e3d22325",
   "metadata": {},
   "outputs": [],
   "source": [
    "\n",
    "@step\n",
    "def data_clean_pred(data_val: pd.DataFrame = None) -> Tuple[Annotated[pd.DataFrame, \"data_val\"], Annotated[pd.Series, \"data_val_Id\"]]:\n",
    "\n",
    "\n",
    "    colonnes_a_transformer_val = ['Qualité_isolation_plancher_bas', 'Qualité_isolation_enveloppe', 'Qualité_isolation_menuiseries',\n",
    "                             'Qualité_isolation_murs', 'Qualité_isolation_plancher_haut_comble_aménagé','Qualité_isolation_plancher_haut_comble_perdu',\n",
    "                             'Qualité_isolation_plancher_haut_toit_terrase', 'Type_bâtiment', 'Etiquette_GES', 'Type_énergie_n°3']\n",
    "\n",
    "\n",
    "    data_val = data_val.fillna(0)\n",
    "\n",
    "    data_val_Id = data_val['N°DPE']\n",
    "\n",
    "\n",
    "\n",
    "    data_val[colonnes_a_transformer_val] = data_val[colonnes_a_transformer_val].replace(correspondance)\n",
    "\n",
    "    data_val = data_val.drop(columns= ['N°DPE', 'Facteur_couverture_solaire_saisi', 'Surface_totale_capteurs_photovoltaïque', 'Facteur_couverture_solaire', 'Configuration_installation_chauffage_n°2', 'Type_générateur_froid', 'Type_émetteur_installation_chauffage_n°2',\n",
    "                              'Classe_altitude', 'Code_postal_(brut)', 'Type_générateur_n°1_installation_n°2', 'Nom__commune_(Brut)',\n",
    "                              \"Cage_d'escalier\", 'Code_INSEE_(BAN)', 'Description_générateur_chauffage_n°2_installation_n°2', 'N°_département_(BAN)'])\n",
    "\n",
    "    return data_val, data_val_Id\n"
   ]
  },
  {
   "cell_type": "code",
   "execution_count": 13,
   "id": "a43e1f54",
   "metadata": {},
   "outputs": [],
   "source": [
    "\n",
    "@step\n",
    "def predict(data_val: pd.DataFrame = None) -> Annotated[np.ndarray, \"data_val\"]:\n",
    "    model = joblib.load('XGBoost_trained.pkl')\n",
    "    pred = model.predict(data_val)\n",
    "    return pred"
   ]
  },
  {
   "cell_type": "code",
   "execution_count": 14,
   "id": "34c0243d",
   "metadata": {},
   "outputs": [],
   "source": [
    "@step\n",
    "def pred_save(pred: np.ndarray = None, data_val_Id: pd.Series = None) -> Annotated[pd.DataFrame, \"data_pred\"]:\n",
    "    data_pred = pd.DataFrame()\n",
    "    data_pred['N°DPE'] = data_val_Id\n",
    "    data_pred['Etiquette_DPE'] = pred\n",
    "\n",
    "    correspondance_val = {0:'G', 1:'F', 2:'E', 3:'D', 4:'C', 5:'B', 6:'A'}\n",
    "\n",
    "    data_pred['Etiquette_DPE'] = data_pred['Etiquette_DPE'].replace(correspondance_val)\n",
    "    data_pred.to_csv('Dpe_val.csv', index=False)\n",
    "    \n",
    "    return data_pred"
   ]
  },
  {
   "cell_type": "code",
   "execution_count": 15,
   "id": "b40ebab0",
   "metadata": {},
   "outputs": [],
   "source": [
    "@pipeline\n",
    "def dpe_xgboost_pred():\n",
    "    data_val = data_val_load()\n",
    "    data_val, data_val_Id = data_clean_pred(data_val)\n",
    "    pred = predict(data_val) \n",
    "    data_pred = pred_save(pred, data_val_Id)"
   ]
  },
  {
   "cell_type": "code",
   "execution_count": 16,
   "id": "6bdd8c29",
   "metadata": {},
   "outputs": [
    {
     "name": "stdout",
     "output_type": "stream",
     "text": [
      "\u001b[1;35mInitiating a new run for the pipeline: \u001b[0m\u001b[1;36mdpe_xgboost_pred\u001b[1;35m.\u001b[0m\n",
      "\u001b[1;35mRegistered new version: \u001b[0m\u001b[1;36m(version 2)\u001b[1;35m.\u001b[0m\n",
      "\u001b[1;35mExecuting a new run.\u001b[0m\n",
      "\u001b[1;35mUsing user: \u001b[0m\u001b[1;36mdefault\u001b[1;35m\u001b[0m\n",
      "\u001b[1;35mUsing stack: \u001b[0m\u001b[1;36mdefault\u001b[1;35m\u001b[0m\n",
      "\u001b[1;35m  orchestrator: \u001b[0m\u001b[1;36mdefault\u001b[1;35m\u001b[0m\n",
      "\u001b[1;35m  artifact_store: \u001b[0m\u001b[1;36mdefault\u001b[1;35m\u001b[0m\n",
      "\u001b[1;35mUsing cached version of \u001b[0m\u001b[1;36mdata_val_load\u001b[1;35m.\u001b[0m\n",
      "\u001b[1;35mStep \u001b[0m\u001b[1;36mdata_val_load\u001b[1;35m has started.\u001b[0m\n",
      "\u001b[1;35mUsing cached version of \u001b[0m\u001b[1;36mdata_clean_pred\u001b[1;35m.\u001b[0m\n",
      "\u001b[1;35mStep \u001b[0m\u001b[1;36mdata_clean_pred\u001b[1;35m has started.\u001b[0m\n",
      "\u001b[1;35mUsing cached version of \u001b[0m\u001b[1;36mpredict\u001b[1;35m.\u001b[0m\n",
      "\u001b[1;35mStep \u001b[0m\u001b[1;36mpredict\u001b[1;35m has started.\u001b[0m\n",
      "\u001b[1;35mUsing cached version of \u001b[0m\u001b[1;36mpred_save\u001b[1;35m.\u001b[0m\n",
      "\u001b[1;35mStep \u001b[0m\u001b[1;36mpred_save\u001b[1;35m has started.\u001b[0m\n",
      "\u001b[1;35mPipeline run has finished in \u001b[0m\u001b[1;36m1.235s\u001b[1;35m.\u001b[0m\n",
      "\u001b[1;35mYou can visualize your pipeline runs in the \u001b[0m\u001b[1;36mZenML Dashboard\u001b[1;35m. In order to try it locally, please run \u001b[0m\u001b[1;36mzenml up\u001b[1;35m.\u001b[0m\n"
     ]
    },
    {
     "data": {
      "text/plain": [
       "PipelineRunResponse(body=PipelineRunResponseBody(created=datetime.datetime(2024, 3, 22, 13, 28, 11, 998710), updated=datetime.datetime(2024, 3, 22, 13, 28, 11, 998710), user=UserResponse(body=UserResponseBody(created=datetime.datetime(2024, 3, 13, 11, 20, 21, 474388), updated=datetime.datetime(2024, 3, 13, 11, 20, 21, 474388), active=True, activation_token=None, full_name='', email_opted_in=None, is_service_account=False), metadata=None, resources=None, id=UUID('d6b6f061-b8c6-462b-b6ad-7018f003f258'), permission_denied=False, name='default'), status=<ExecutionStatus.INITIALIZING: 'initializing'>, stack=StackResponse(body=StackResponseBody(created=datetime.datetime(2024, 3, 13, 11, 20, 20, 712936), updated=datetime.datetime(2024, 3, 13, 11, 20, 20, 712936), user=None), metadata=None, resources=None, id=UUID('12159a6b-75ff-4da9-abaf-25808b794a76'), permission_denied=False, name='default'), pipeline=PipelineResponse(body=PipelineResponseBody(created=datetime.datetime(2024, 3, 22, 13, 28, 10, 363145), updated=datetime.datetime(2024, 3, 22, 13, 28, 10, 363145), user=UserResponse(body=UserResponseBody(created=datetime.datetime(2024, 3, 13, 11, 20, 21, 474388), updated=datetime.datetime(2024, 3, 13, 11, 20, 21, 474388), active=True, activation_token=None, full_name='', email_opted_in=None, is_service_account=False), metadata=None, resources=None, id=UUID('d6b6f061-b8c6-462b-b6ad-7018f003f258'), permission_denied=False, name='default'), status=[<ExecutionStatus.INITIALIZING: 'initializing'>], version='2'), metadata=None, resources=None, id=UUID('0bf032b6-09d6-4dcc-a490-5c8154fc41be'), permission_denied=False, name='dpe_xgboost_pred'), build=None, schedule=None, code_reference=None, deployment_id=UUID('612431b0-64d2-4830-8947-9e20f1fa69ab'), trigger_execution=None), metadata=PipelineRunResponseMetadata(workspace=WorkspaceResponse(body=WorkspaceResponseBody(created=datetime.datetime(2024, 3, 13, 11, 20, 20, 564848), updated=datetime.datetime(2024, 3, 13, 11, 20, 20, 564848)), metadata=None, resources=None, id=UUID('c345797b-eea1-41af-a9f3-4f3335605a35'), permission_denied=False, name='default'), run_metadata={}, steps={}, config=PipelineConfiguration(enable_cache=None, enable_artifact_metadata=None, enable_artifact_visualization=None, enable_step_logs=None, settings={}, extra={}, failure_hook_source=None, success_hook_source=None, model=None, parameters=None, name='dpe_xgboost_pred'), start_time=datetime.datetime(2024, 3, 22, 13, 28, 11, 990718), end_time=None, client_environment={'environment': 'notebook', 'os': 'windows', 'windows_version_release': '10', 'windows_version': '10.0.19045', 'windows_version_service_pack': 'SP0', 'windows_version_os_type': 'Multiprocessor Free', 'python_version': '3.10.6'}, orchestrator_environment={}, orchestrator_run_id=None), resources=None, id=UUID('05754048-4425-4841-846c-44a5f80e8244'), permission_denied=False, name='dpe_xgboost_pred-2024_03_22-13_28_11_990718')"
      ]
     },
     "execution_count": 16,
     "metadata": {},
     "output_type": "execute_result"
    }
   ],
   "source": [
    "dpe_xgboost_pred()"
   ]
  },
  {
   "cell_type": "code",
   "execution_count": null,
   "id": "b7fa3ed7",
   "metadata": {},
   "outputs": [],
   "source": [
    "@pipeline\n",
    "def Full_train_and_predict():\n",
    "    step_1 = dpe_xgboost_train()\n",
    "    step_2 = dpe_xgboost_pred()\n",
    "    "
   ]
  },
  {
   "cell_type": "code",
   "execution_count": 95,
   "id": "13f5e623",
   "metadata": {},
   "outputs": [
    {
     "name": "stdout",
     "output_type": "stream",
     "text": [
      "\u001b[1;35mInitiating a new run for the pipeline: \u001b[0m\u001b[1;36mFull_train_and_predict\u001b[1;35m.\u001b[0m\n",
      "\u001b[1;35mRegistered new version: \u001b[0m\u001b[1;36m(version 3)\u001b[1;35m.\u001b[0m\n",
      "\u001b[1;35mExecuting a new run.\u001b[0m\n",
      "\u001b[1;35mUsing user: \u001b[0m\u001b[1;36mdefault\u001b[1;35m\u001b[0m\n",
      "\u001b[1;35mUsing stack: \u001b[0m\u001b[1;36mdefault\u001b[1;35m\u001b[0m\n",
      "\u001b[1;35m  orchestrator: \u001b[0m\u001b[1;36mdefault\u001b[1;35m\u001b[0m\n",
      "\u001b[1;35m  artifact_store: \u001b[0m\u001b[1;36mdefault\u001b[1;35m\u001b[0m\n",
      "\u001b[1;35mStep \u001b[0m\u001b[1;36mdata_load\u001b[1;35m has started.\u001b[0m\n",
      "\u001b[1;35mStep \u001b[0m\u001b[1;36mdata_load\u001b[1;35m has finished in \u001b[0m\u001b[1;36m1m10s\u001b[1;35m.\u001b[0m\n",
      "\u001b[1;35mStep \u001b[0m\u001b[1;36mdata_val_load\u001b[1;35m has started.\u001b[0m\n",
      "\u001b[1;35mStep \u001b[0m\u001b[1;36mdata_val_load\u001b[1;35m has finished in \u001b[0m\u001b[1;36m7.175s\u001b[1;35m.\u001b[0m\n",
      "\u001b[1;35mStep \u001b[0m\u001b[1;36mdata_clean\u001b[1;35m has started.\u001b[0m\n",
      "\u001b[33mFailed to extract metadata for output artifact 'target': 'float' object has no attribute 'item'\u001b[0m\n",
      "\u001b[1;35mStep \u001b[0m\u001b[1;36mdata_clean\u001b[1;35m has finished in \u001b[0m\u001b[1;36m1m25s\u001b[1;35m.\u001b[0m\n",
      "\u001b[1;35mStep \u001b[0m\u001b[1;36mdata_clean_pred\u001b[1;35m has started.\u001b[0m\n"
     ]
    },
    {
     "name": "stderr",
     "output_type": "stream",
     "text": [
      "IOPub data rate exceeded.\n",
      "The notebook server will temporarily stop sending output\n",
      "to the client in order to avoid crashing it.\n",
      "To change this limit, set the config variable\n",
      "`--NotebookApp.iopub_data_rate_limit`.\n",
      "\n",
      "Current values:\n",
      "NotebookApp.iopub_data_rate_limit=1000000.0 (bytes/sec)\n",
      "NotebookApp.rate_limit_window=3.0 (secs)\n",
      "\n"
     ]
    },
    {
     "name": "stdout",
     "output_type": "stream",
     "text": [
      "\u001b[1;35mStep \u001b[0m\u001b[1;36mdata_clean_pred\u001b[1;35m has finished in \u001b[0m\u001b[1;36m5m20s\u001b[1;35m.\u001b[0m\n",
      "\u001b[1;35mStep \u001b[0m\u001b[1;36mdata_prep\u001b[1;35m has started.\u001b[0m\n",
      "\u001b[33mFailed to extract metadata for output artifact 'target_train': 'float' object has no attribute 'item'\u001b[0m\n",
      "\u001b[33mFailed to extract metadata for output artifact 'target_test': 'float' object has no attribute 'item'\u001b[0m\n",
      "\u001b[1;35mStep \u001b[0m\u001b[1;36mdata_prep\u001b[1;35m has finished in \u001b[0m\u001b[1;36m38.948s\u001b[1;35m.\u001b[0m\n",
      "\u001b[1;35mStep \u001b[0m\u001b[1;36mpredict\u001b[1;35m has started.\u001b[0m\n",
      "\u001b[1;35mStep \u001b[0m\u001b[1;36mpredict\u001b[1;35m has finished in \u001b[0m\u001b[1;36m14.548s\u001b[1;35m.\u001b[0m\n",
      "\u001b[1;35mStep \u001b[0m\u001b[1;36mpred_save\u001b[1;35m has started.\u001b[0m\n",
      "\u001b[1;35mStep \u001b[0m\u001b[1;36mpred_save\u001b[1;35m has finished in \u001b[0m\u001b[1;36m5.511s\u001b[1;35m.\u001b[0m\n",
      "\u001b[1;35mStep \u001b[0m\u001b[1;36mtrain_model\u001b[1;35m has started.\u001b[0m\n",
      "\u001b[1;35mStep \u001b[0m\u001b[1;36mtrain_model\u001b[1;35m has finished in \u001b[0m\u001b[1;36m2m57s\u001b[1;35m.\u001b[0m\n",
      "\u001b[1;35mPipeline run has finished in \u001b[0m\u001b[1;36m12m5s\u001b[1;35m.\u001b[0m\n",
      "\u001b[1;35mYou can visualize your pipeline runs in the \u001b[0m\u001b[1;36mZenML Dashboard\u001b[1;35m. In order to try it locally, please run \u001b[0m\u001b[1;36mzenml up\u001b[1;35m.\u001b[0m\n"
     ]
    },
    {
     "data": {
      "text/plain": [
       "PipelineRunResponse(body=PipelineRunResponseBody(created=datetime.datetime(2024, 3, 22, 11, 32, 12, 686396), updated=datetime.datetime(2024, 3, 22, 11, 32, 12, 686396), user=UserResponse(body=UserResponseBody(created=datetime.datetime(2024, 3, 13, 11, 20, 21, 474388), updated=datetime.datetime(2024, 3, 13, 11, 20, 21, 474388), active=True, activation_token=None, full_name='', email_opted_in=None, is_service_account=False), metadata=None, resources=None, id=UUID('d6b6f061-b8c6-462b-b6ad-7018f003f258'), permission_denied=False, name='default'), status=<ExecutionStatus.INITIALIZING: 'initializing'>, stack=StackResponse(body=StackResponseBody(created=datetime.datetime(2024, 3, 13, 11, 20, 20, 712936), updated=datetime.datetime(2024, 3, 13, 11, 20, 20, 712936), user=None), metadata=None, resources=None, id=UUID('12159a6b-75ff-4da9-abaf-25808b794a76'), permission_denied=False, name='default'), pipeline=PipelineResponse(body=PipelineResponseBody(created=datetime.datetime(2024, 3, 22, 11, 32, 12, 403780), updated=datetime.datetime(2024, 3, 22, 11, 32, 12, 403780), user=UserResponse(body=UserResponseBody(created=datetime.datetime(2024, 3, 13, 11, 20, 21, 474388), updated=datetime.datetime(2024, 3, 13, 11, 20, 21, 474388), active=True, activation_token=None, full_name='', email_opted_in=None, is_service_account=False), metadata=None, resources=None, id=UUID('d6b6f061-b8c6-462b-b6ad-7018f003f258'), permission_denied=False, name='default'), status=[<ExecutionStatus.INITIALIZING: 'initializing'>], version='3'), metadata=None, resources=None, id=UUID('8be0026d-9af0-4fa6-91e9-2349f6cb36db'), permission_denied=False, name='Full_train_and_predict'), build=None, schedule=None, code_reference=None, deployment_id=UUID('b4f10da6-3899-44fd-89e0-03362ba79555'), trigger_execution=None), metadata=PipelineRunResponseMetadata(workspace=WorkspaceResponse(body=WorkspaceResponseBody(created=datetime.datetime(2024, 3, 13, 11, 20, 20, 564848), updated=datetime.datetime(2024, 3, 13, 11, 20, 20, 564848)), metadata=None, resources=None, id=UUID('c345797b-eea1-41af-a9f3-4f3335605a35'), permission_denied=False, name='default'), run_metadata={}, steps={}, config=PipelineConfiguration(enable_cache=None, enable_artifact_metadata=None, enable_artifact_visualization=None, enable_step_logs=None, settings={}, extra={}, failure_hook_source=None, success_hook_source=None, model=None, parameters=None, name='Full_train_and_predict'), start_time=datetime.datetime(2024, 3, 22, 11, 32, 12, 680108), end_time=None, client_environment={'environment': 'notebook', 'os': 'windows', 'windows_version_release': '10', 'windows_version': '10.0.19045', 'windows_version_service_pack': 'SP0', 'windows_version_os_type': 'Multiprocessor Free', 'python_version': '3.10.6'}, orchestrator_environment={}, orchestrator_run_id=None), resources=None, id=UUID('2754e4ed-f790-45d2-bd2a-71b123c27575'), permission_denied=False, name='Full_train_and_predict-2024_03_22-11_32_12_680108')"
      ]
     },
     "execution_count": 95,
     "metadata": {},
     "output_type": "execute_result"
    }
   ],
   "source": [
    "Full_train_and_predict()"
   ]
  },
  {
   "cell_type": "code",
   "execution_count": null,
   "id": "c7550cf1",
   "metadata": {},
   "outputs": [],
   "source": []
  }
 ],
 "metadata": {
  "kernelspec": {
   "display_name": "Python 3 (ipykernel)",
   "language": "python",
   "name": "python3"
  },
  "language_info": {
   "codemirror_mode": {
    "name": "ipython",
    "version": 3
   },
   "file_extension": ".py",
   "mimetype": "text/x-python",
   "name": "python",
   "nbconvert_exporter": "python",
   "pygments_lexer": "ipython3",
   "version": "3.10.6"
  }
 },
 "nbformat": 4,
 "nbformat_minor": 5
}
